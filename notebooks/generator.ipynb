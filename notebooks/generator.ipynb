{
 "cells": [
  {
   "cell_type": "code",
   "execution_count": 1,
   "metadata": {},
   "outputs": [
    {
     "name": "stdout",
     "output_type": "stream",
     "text": [
      "Enabling notebook extension jupyter-js-widgets/extension...\n",
      "      - Validating: \u001b[32mOK\u001b[0m\n"
     ]
    }
   ],
   "source": [
    "!jupyter nbextension enable --py widgetsnbextension"
   ]
  },
  {
   "cell_type": "markdown",
   "metadata": {},
   "source": [
    "# Generate Training Dataset using GPT 4\n"
   ]
  },
  {
   "cell_type": "code",
   "execution_count": 2,
   "metadata": {},
   "outputs": [
    {
     "name": "stdout",
     "output_type": "stream",
     "text": [
      "/Users/rafaelmadrigal/Documents/Code-Work/snoop-impersonator\n"
     ]
    }
   ],
   "source": [
    "from dotenv import load_dotenv\n",
    "import os\n",
    "os.chdir('./..')\n",
    "print(os.getcwd())\n"
   ]
  },
  {
   "cell_type": "code",
   "execution_count": 3,
   "metadata": {},
   "outputs": [
    {
     "data": {
      "text/plain": [
       "True"
      ]
     },
     "execution_count": 3,
     "metadata": {},
     "output_type": "execute_result"
    }
   ],
   "source": [
    "load_dotenv()"
   ]
  },
  {
   "cell_type": "code",
   "execution_count": 2,
   "metadata": {},
   "outputs": [
    {
     "data": {
      "text/plain": [
       "{'user': \"Hey Snoop, what's your advice for someone who's feeling down?\",\n",
       " 'snoop_dogg': \"When life's got you feeling low, let the Snoop Dogg flow. Stay strong, keep your head high, don’t let them haters make you cry. Just keep on pushin', don't ever stop, remember you're a boss, you're right at the top.\"}"
      ]
     },
     "execution_count": 2,
     "metadata": {},
     "output_type": "execute_result"
    }
   ],
   "source": [
    "from langchain_openai import ChatOpenAI\n",
    "from langchain.output_parsers import PydanticOutputParser\n",
    "from langchain_core.pydantic_v1 import BaseModel, Field, validator\n",
    "from langchain.output_parsers.json import SimpleJsonOutputParser\n",
    "from langchain_core.prompts import PromptTemplate\n",
    "\n",
    "llm = ChatOpenAI(model='gpt-4', temperature=0.8)\n",
    "\n",
    "\n",
    "INSTRUCTIONS_TEMPLATE = \"\"\"Write Question and Answer Pairs optimized for finetuning Large Language Models. \n",
    "Questions are asked by a human user and should cover anything about a person's life or about any general facts. \n",
    "Answers should be limited to less than 550 characters and should be a rhyme as if you were the rapper, Snoop Dogg. \n",
    "Answers should explain things like Snoop Dogg would and if the question does not make sense, explain that you are a bit lost and make something up that is both hilarious and relevant\n",
    "\n",
    "Below are some examples:\n",
    "\n",
    "user: Yo Snoop, what's the best way to relax after a long day?\n",
    "snoop_dogg: Roll up a blunt, take a puff, feel the stress fade away, that's enough. Put on some tunes, vibe to the beat, let the rhythm guide your feet. Kick back, chillax, let the worries disappear, ain't nothin' like smokin' good vibes in the atmosphere.\n",
    "\n",
    "user: Snoop, how do you stay so cool all the time?\n",
    "snoop_dogg: It's in my DNA, laid-back genes, you see. Can't nobody bring the chill like me.\n",
    "\n",
    "user: Snoop, what's your favorite food when you're feeling hungry?\n",
    "snoop_dogg Gotta have some soul food, keepin' it real. Mac and cheese, fried chicken, that's the deal.\n",
    "\n",
    "{format_instructions}\n",
    "{query}\n",
    "\"\"\"\n",
    "\n",
    "class Conversation(BaseModel):\n",
    "    user: str = Field(description=\"human question about anything\")\n",
    "    snoop_dogg: str = Field(description=\"answer to the question in a rhyme as if the the person answering was Snoop Dogg\")\n",
    "\n",
    "    # You can add custom validation logic easily with Pydantic.\n",
    "    @validator(\"user\")\n",
    "    def question_ends_with_question_mark(cls, field):\n",
    "        if field[-1] != \"?\":\n",
    "            raise ValueError(\"Badly formed question!\")\n",
    "        return field\n",
    "\n",
    "# Set up a parser + inject instructions into the prompt template.\n",
    " \n",
    "\n",
    "INSTRUCTIONS_PROMPT = PromptTemplate(\n",
    "    template=INSTRUCTIONS_TEMPLATE,\n",
    "    input_variables=[\"query\"],\n",
    "    partial_variables={\"format_instructions\": PydanticOutputParser(pydantic_object=Conversation).get_format_instructions()},\n",
    ")\n",
    "\n",
    "json_parser = SimpleJsonOutputParser()\n",
    "\n",
    "json_chain = INSTRUCTIONS_PROMPT | llm | json_parser\n",
    "output = json_chain.invoke({\"query\": \"give me one conversation\"})\n",
    "output\n"
   ]
  },
  {
   "cell_type": "code",
   "execution_count": null,
   "metadata": {},
   "outputs": [],
   "source": []
  },
  {
   "cell_type": "code",
   "execution_count": 7,
   "metadata": {},
   "outputs": [],
   "source": [
    "from tqdm import tqdm"
   ]
  },
  {
   "cell_type": "code",
   "execution_count": 8,
   "metadata": {},
   "outputs": [
    {
     "name": "stderr",
     "output_type": "stream",
     "text": [
      "100%|██████████| 1000/1000 [56:39<00:00,  3.40s/it] \n"
     ]
    }
   ],
   "source": [
    "generated_conversations = []\n",
    "\n",
    "for i in tqdm(range(1000)):\n",
    "    output_i = json_chain.invoke({\"query\": \"give me one conversation\"})\n",
    "    generated_conversations.append(output_i)\n",
    "\n"
   ]
  },
  {
   "cell_type": "code",
   "execution_count": 9,
   "metadata": {},
   "outputs": [],
   "source": [
    "import pandas as pd\n",
    "\n",
    "df = pd.DataFrame.from_records(generated_conversations)\n",
    "df.to_csv('snoop_raw.csv', index=False)"
   ]
  },
  {
   "cell_type": "code",
   "execution_count": 18,
   "metadata": {},
   "outputs": [],
   "source": [
    "import re\n",
    "ptn = re.compile(r'(Snoop, )')\n",
    "\n",
    "df.user = df.user.map(lambda x: ptn.sub('', x)).map(lambda x: x[0].upper()+x[1:])\n",
    "df.to_csv('snoop_raw.csv', index=False)\n"
   ]
  },
  {
   "cell_type": "code",
   "execution_count": 19,
   "metadata": {},
   "outputs": [
    {
     "data": {
      "text/html": [
       "<div>\n",
       "<style scoped>\n",
       "    .dataframe tbody tr th:only-of-type {\n",
       "        vertical-align: middle;\n",
       "    }\n",
       "\n",
       "    .dataframe tbody tr th {\n",
       "        vertical-align: top;\n",
       "    }\n",
       "\n",
       "    .dataframe thead th {\n",
       "        text-align: right;\n",
       "    }\n",
       "</style>\n",
       "<table border=\"1\" class=\"dataframe\">\n",
       "  <thead>\n",
       "    <tr style=\"text-align: right;\">\n",
       "      <th></th>\n",
       "      <th>user</th>\n",
       "      <th>snoop_dogg</th>\n",
       "    </tr>\n",
       "  </thead>\n",
       "  <tbody>\n",
       "    <tr>\n",
       "      <th>0</th>\n",
       "      <td>Hey how do you write such dope rhymes?</td>\n",
       "      <td>Rhymes come easy, like a cool sea breeze, Play...</td>\n",
       "    </tr>\n",
       "    <tr>\n",
       "      <th>1</th>\n",
       "      <td>How do you manage to stay so productive?</td>\n",
       "      <td>Ah, the secret's in the rhythm, the flow of th...</td>\n",
       "    </tr>\n",
       "    <tr>\n",
       "      <th>2</th>\n",
       "      <td>Hey how do you handle negativity?</td>\n",
       "      <td>When the hate be spittin', I keep my vibes hit...</td>\n",
       "    </tr>\n",
       "    <tr>\n",
       "      <th>3</th>\n",
       "      <td>Can you tell me how to write a rap?</td>\n",
       "      <td>Drop a beat, feel the rhythm, let it clap. Put...</td>\n",
       "    </tr>\n",
       "    <tr>\n",
       "      <th>4</th>\n",
       "      <td>What's your take on global warming?</td>\n",
       "      <td>Global warming, it's a fact, ain't no time to ...</td>\n",
       "    </tr>\n",
       "    <tr>\n",
       "      <th>...</th>\n",
       "      <td>...</td>\n",
       "      <td>...</td>\n",
       "    </tr>\n",
       "    <tr>\n",
       "      <th>995</th>\n",
       "      <td>Hey how do you deal with the haters?</td>\n",
       "      <td>Yo, when it comes to the haters, don't let 'em...</td>\n",
       "    </tr>\n",
       "    <tr>\n",
       "      <th>996</th>\n",
       "      <td>Hey what's your favorite way to spend a Sunday?</td>\n",
       "      <td>Chill at home, no need to roam, playin' record...</td>\n",
       "    </tr>\n",
       "    <tr>\n",
       "      <th>997</th>\n",
       "      <td>Hey what's your favorite season of the year?</td>\n",
       "      <td>Summer's the season, ain't no doubt. Sun's bla...</td>\n",
       "    </tr>\n",
       "    <tr>\n",
       "      <th>998</th>\n",
       "      <td>What's your take on global warming?</td>\n",
       "      <td>Global warming ain't no joke, it's like the Ea...</td>\n",
       "    </tr>\n",
       "    <tr>\n",
       "      <th>999</th>\n",
       "      <td>Hey what's the best way to stay motivated?</td>\n",
       "      <td>Keep ya eyes on the prize, don't let 'em stray...</td>\n",
       "    </tr>\n",
       "  </tbody>\n",
       "</table>\n",
       "<p>1000 rows × 2 columns</p>\n",
       "</div>"
      ],
      "text/plain": [
       "                                                user  \\\n",
       "0             Hey how do you write such dope rhymes?   \n",
       "1           How do you manage to stay so productive?   \n",
       "2                  Hey how do you handle negativity?   \n",
       "3                Can you tell me how to write a rap?   \n",
       "4                What's your take on global warming?   \n",
       "..                                               ...   \n",
       "995             Hey how do you deal with the haters?   \n",
       "996  Hey what's your favorite way to spend a Sunday?   \n",
       "997     Hey what's your favorite season of the year?   \n",
       "998              What's your take on global warming?   \n",
       "999       Hey what's the best way to stay motivated?   \n",
       "\n",
       "                                            snoop_dogg  \n",
       "0    Rhymes come easy, like a cool sea breeze, Play...  \n",
       "1    Ah, the secret's in the rhythm, the flow of th...  \n",
       "2    When the hate be spittin', I keep my vibes hit...  \n",
       "3    Drop a beat, feel the rhythm, let it clap. Put...  \n",
       "4    Global warming, it's a fact, ain't no time to ...  \n",
       "..                                                 ...  \n",
       "995  Yo, when it comes to the haters, don't let 'em...  \n",
       "996  Chill at home, no need to roam, playin' record...  \n",
       "997  Summer's the season, ain't no doubt. Sun's bla...  \n",
       "998  Global warming ain't no joke, it's like the Ea...  \n",
       "999  Keep ya eyes on the prize, don't let 'em stray...  \n",
       "\n",
       "[1000 rows x 2 columns]"
      ]
     },
     "execution_count": 19,
     "metadata": {},
     "output_type": "execute_result"
    }
   ],
   "source": [
    "df"
   ]
  },
  {
   "cell_type": "code",
   "execution_count": 20,
   "metadata": {},
   "outputs": [],
   "source": [
    "df.columns = ['instruction', 'output']"
   ]
  },
  {
   "cell_type": "code",
   "execution_count": 24,
   "metadata": {},
   "outputs": [],
   "source": [
    "df = df.assign(input='')"
   ]
  },
  {
   "cell_type": "code",
   "execution_count": 25,
   "metadata": {},
   "outputs": [
    {
     "data": {
      "text/html": [
       "<div>\n",
       "<style scoped>\n",
       "    .dataframe tbody tr th:only-of-type {\n",
       "        vertical-align: middle;\n",
       "    }\n",
       "\n",
       "    .dataframe tbody tr th {\n",
       "        vertical-align: top;\n",
       "    }\n",
       "\n",
       "    .dataframe thead th {\n",
       "        text-align: right;\n",
       "    }\n",
       "</style>\n",
       "<table border=\"1\" class=\"dataframe\">\n",
       "  <thead>\n",
       "    <tr style=\"text-align: right;\">\n",
       "      <th></th>\n",
       "      <th>instruction</th>\n",
       "      <th>output</th>\n",
       "      <th>input</th>\n",
       "    </tr>\n",
       "  </thead>\n",
       "  <tbody>\n",
       "    <tr>\n",
       "      <th>0</th>\n",
       "      <td>Hey how do you write such dope rhymes?</td>\n",
       "      <td>Rhymes come easy, like a cool sea breeze, Play...</td>\n",
       "      <td></td>\n",
       "    </tr>\n",
       "    <tr>\n",
       "      <th>1</th>\n",
       "      <td>How do you manage to stay so productive?</td>\n",
       "      <td>Ah, the secret's in the rhythm, the flow of th...</td>\n",
       "      <td></td>\n",
       "    </tr>\n",
       "    <tr>\n",
       "      <th>2</th>\n",
       "      <td>Hey how do you handle negativity?</td>\n",
       "      <td>When the hate be spittin', I keep my vibes hit...</td>\n",
       "      <td></td>\n",
       "    </tr>\n",
       "    <tr>\n",
       "      <th>3</th>\n",
       "      <td>Can you tell me how to write a rap?</td>\n",
       "      <td>Drop a beat, feel the rhythm, let it clap. Put...</td>\n",
       "      <td></td>\n",
       "    </tr>\n",
       "    <tr>\n",
       "      <th>4</th>\n",
       "      <td>What's your take on global warming?</td>\n",
       "      <td>Global warming, it's a fact, ain't no time to ...</td>\n",
       "      <td></td>\n",
       "    </tr>\n",
       "    <tr>\n",
       "      <th>...</th>\n",
       "      <td>...</td>\n",
       "      <td>...</td>\n",
       "      <td>...</td>\n",
       "    </tr>\n",
       "    <tr>\n",
       "      <th>995</th>\n",
       "      <td>Hey how do you deal with the haters?</td>\n",
       "      <td>Yo, when it comes to the haters, don't let 'em...</td>\n",
       "      <td></td>\n",
       "    </tr>\n",
       "    <tr>\n",
       "      <th>996</th>\n",
       "      <td>Hey what's your favorite way to spend a Sunday?</td>\n",
       "      <td>Chill at home, no need to roam, playin' record...</td>\n",
       "      <td></td>\n",
       "    </tr>\n",
       "    <tr>\n",
       "      <th>997</th>\n",
       "      <td>Hey what's your favorite season of the year?</td>\n",
       "      <td>Summer's the season, ain't no doubt. Sun's bla...</td>\n",
       "      <td></td>\n",
       "    </tr>\n",
       "    <tr>\n",
       "      <th>998</th>\n",
       "      <td>What's your take on global warming?</td>\n",
       "      <td>Global warming ain't no joke, it's like the Ea...</td>\n",
       "      <td></td>\n",
       "    </tr>\n",
       "    <tr>\n",
       "      <th>999</th>\n",
       "      <td>Hey what's the best way to stay motivated?</td>\n",
       "      <td>Keep ya eyes on the prize, don't let 'em stray...</td>\n",
       "      <td></td>\n",
       "    </tr>\n",
       "  </tbody>\n",
       "</table>\n",
       "<p>1000 rows × 3 columns</p>\n",
       "</div>"
      ],
      "text/plain": [
       "                                         instruction  \\\n",
       "0             Hey how do you write such dope rhymes?   \n",
       "1           How do you manage to stay so productive?   \n",
       "2                  Hey how do you handle negativity?   \n",
       "3                Can you tell me how to write a rap?   \n",
       "4                What's your take on global warming?   \n",
       "..                                               ...   \n",
       "995             Hey how do you deal with the haters?   \n",
       "996  Hey what's your favorite way to spend a Sunday?   \n",
       "997     Hey what's your favorite season of the year?   \n",
       "998              What's your take on global warming?   \n",
       "999       Hey what's the best way to stay motivated?   \n",
       "\n",
       "                                                output input  \n",
       "0    Rhymes come easy, like a cool sea breeze, Play...        \n",
       "1    Ah, the secret's in the rhythm, the flow of th...        \n",
       "2    When the hate be spittin', I keep my vibes hit...        \n",
       "3    Drop a beat, feel the rhythm, let it clap. Put...        \n",
       "4    Global warming, it's a fact, ain't no time to ...        \n",
       "..                                                 ...   ...  \n",
       "995  Yo, when it comes to the haters, don't let 'em...        \n",
       "996  Chill at home, no need to roam, playin' record...        \n",
       "997  Summer's the season, ain't no doubt. Sun's bla...        \n",
       "998  Global warming ain't no joke, it's like the Ea...        \n",
       "999  Keep ya eyes on the prize, don't let 'em stray...        \n",
       "\n",
       "[1000 rows x 3 columns]"
      ]
     },
     "execution_count": 25,
     "metadata": {},
     "output_type": "execute_result"
    }
   ],
   "source": [
    "df"
   ]
  },
  {
   "cell_type": "code",
   "execution_count": 32,
   "metadata": {},
   "outputs": [],
   "source": [
    "def chat_formatting_mistral(row):\n",
    "    text = f\"<s>[INST] {row['instruction']} [/INST] {row['output']} </s>\"\n",
    "    return text\n",
    "\n",
    "df['text'] = df.apply(chat_formatting_mistral, axis=1)\n"
   ]
  },
  {
   "cell_type": "code",
   "execution_count": 37,
   "metadata": {},
   "outputs": [],
   "source": [
    "train = df[['instruction', 'input', 'output', 'text']]"
   ]
  },
  {
   "cell_type": "code",
   "execution_count": 38,
   "metadata": {},
   "outputs": [],
   "source": [
    "train.to_csv('train.csv', index=False)"
   ]
  },
  {
   "cell_type": "code",
   "execution_count": null,
   "metadata": {},
   "outputs": [],
   "source": []
  }
 ],
 "metadata": {
  "kernelspec": {
   "display_name": "venv",
   "language": "python",
   "name": "python3"
  },
  "language_info": {
   "codemirror_mode": {
    "name": "ipython",
    "version": 3
   },
   "file_extension": ".py",
   "mimetype": "text/x-python",
   "name": "python",
   "nbconvert_exporter": "python",
   "pygments_lexer": "ipython3",
   "version": "3.11.5"
  }
 },
 "nbformat": 4,
 "nbformat_minor": 2
}
