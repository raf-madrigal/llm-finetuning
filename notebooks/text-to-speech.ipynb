{
 "cells": [
  {
   "cell_type": "code",
   "execution_count": 1,
   "metadata": {},
   "outputs": [
    {
     "name": "stdout",
     "output_type": "stream",
     "text": [
      "Collecting pyht\n",
      "  Downloading pyht-0.0.27-py3-none-any.whl.metadata (3.4 kB)\n",
      "Requirement already satisfied: filelock<4.0.0,>=3.12.4 in /Users/rafaelmadrigal/Documents/Code-Work/llm-finetuning/venv/lib/python3.11/site-packages (from pyht) (3.13.3)\n",
      "Collecting grpcio<2.0.0,>=1.58.0 (from pyht)\n",
      "  Using cached grpcio-1.62.1-cp311-cp311-macosx_10_10_universal2.whl.metadata (4.0 kB)\n",
      "Requirement already satisfied: protobuf<5.0.0,>=4.24.3 in /Users/rafaelmadrigal/Documents/Code-Work/llm-finetuning/venv/lib/python3.11/site-packages (from pyht) (4.25.3)\n",
      "Requirement already satisfied: requests<3.0.0,>=2.31.0 in /Users/rafaelmadrigal/Documents/Code-Work/llm-finetuning/venv/lib/python3.11/site-packages (from pyht) (2.31.0)\n",
      "Requirement already satisfied: charset-normalizer<4,>=2 in /Users/rafaelmadrigal/Documents/Code-Work/llm-finetuning/venv/lib/python3.11/site-packages (from requests<3.0.0,>=2.31.0->pyht) (3.3.2)\n",
      "Requirement already satisfied: idna<4,>=2.5 in /Users/rafaelmadrigal/Documents/Code-Work/llm-finetuning/venv/lib/python3.11/site-packages (from requests<3.0.0,>=2.31.0->pyht) (3.6)\n",
      "Requirement already satisfied: urllib3<3,>=1.21.1 in /Users/rafaelmadrigal/Documents/Code-Work/llm-finetuning/venv/lib/python3.11/site-packages (from requests<3.0.0,>=2.31.0->pyht) (2.2.1)\n",
      "Requirement already satisfied: certifi>=2017.4.17 in /Users/rafaelmadrigal/Documents/Code-Work/llm-finetuning/venv/lib/python3.11/site-packages (from requests<3.0.0,>=2.31.0->pyht) (2024.2.2)\n",
      "Downloading pyht-0.0.27-py3-none-any.whl (21 kB)\n",
      "Using cached grpcio-1.62.1-cp311-cp311-macosx_10_10_universal2.whl (10.0 MB)\n",
      "Installing collected packages: grpcio, pyht\n",
      "Successfully installed grpcio-1.62.1 pyht-0.0.27\n"
     ]
    }
   ],
   "source": [
    "!pip install pyht"
   ]
  },
  {
   "cell_type": "code",
   "execution_count": 2,
   "metadata": {},
   "outputs": [],
   "source": [
    "import tempfile\n",
    "import wave"
   ]
  }
 ],
 "metadata": {
  "kernelspec": {
   "display_name": "venv",
   "language": "python",
   "name": "python3"
  },
  "language_info": {
   "codemirror_mode": {
    "name": "ipython",
    "version": 3
   },
   "file_extension": ".py",
   "mimetype": "text/x-python",
   "name": "python",
   "nbconvert_exporter": "python",
   "pygments_lexer": "ipython3",
   "version": "3.11.5"
  }
 },
 "nbformat": 4,
 "nbformat_minor": 2
}
